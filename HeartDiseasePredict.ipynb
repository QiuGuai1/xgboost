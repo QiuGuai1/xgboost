{
 "cells": [
  {
   "cell_type": "code",
   "execution_count": 2,
   "metadata": {},
   "outputs": [
    {
     "ename": "NameError",
     "evalue": "name 'data' is not defined",
     "output_type": "error",
     "traceback": [
      "\u001b[1;31m---------------------------------------------------------------------------\u001b[0m",
      "\u001b[1;31mNameError\u001b[0m                                 Traceback (most recent call last)",
      "Cell \u001b[1;32mIn[2], line 19\u001b[0m\n\u001b[0;32m     16\u001b[0m file_path \u001b[38;5;241m=\u001b[39m \u001b[38;5;124m\"\u001b[39m\u001b[38;5;124mD:\u001b[39m\u001b[38;5;124m\\\u001b[39m\u001b[38;5;124mdata\u001b[39m\u001b[38;5;124m\\\u001b[39m\u001b[38;5;124mheart+disease\u001b[39m\u001b[38;5;124m\\\u001b[39m\u001b[38;5;124mprocessed.cleveland.data\u001b[39m\u001b[38;5;124m\"\u001b[39m\n\u001b[0;32m     18\u001b[0m \u001b[38;5;66;03m# 替换'MissingValue'为NaN\u001b[39;00m\n\u001b[1;32m---> 19\u001b[0m \u001b[43mdata\u001b[49m\u001b[38;5;241m.\u001b[39mreplace(\u001b[38;5;124m'\u001b[39m\u001b[38;5;124m?\u001b[39m\u001b[38;5;124m'\u001b[39m, np\u001b[38;5;241m.\u001b[39mnan, inplace\u001b[38;5;241m=\u001b[39m\u001b[38;5;28;01mTrue\u001b[39;00m)\n\u001b[0;32m     20\u001b[0m \u001b[38;5;66;03m# 转换数据类型\u001b[39;00m\n\u001b[0;32m     21\u001b[0m data \u001b[38;5;241m=\u001b[39m data\u001b[38;5;241m.\u001b[39mastype(\u001b[38;5;28mfloat\u001b[39m)\n",
      "\u001b[1;31mNameError\u001b[0m: name 'data' is not defined"
     ]
    }
   ],
   "source": [
    "# 导入相关库\n",
    "from sklearn.ensemble import RandomForestRegressor  # 导入随机森林回归器\n",
    "from sklearn.linear_model import LinearRegression  # 导入线性回归模型\n",
    "from sklearn.model_selection import KFold, cross_val_score, train_test_split as TTS # 导入交叉验证、交叉验证评分及数据集划分\n",
    "from sklearn.metrics import mean_squared_error  # 导入均方误差计算的方法\n",
    "import xgboost as xgb\n",
    "from sklearn.metrics import accuracy_score\n",
    "\n",
    "import pandas as pd  # 导入处理数据的pandas库\n",
    "import numpy as np  # 导入数值计算库Numpy\n",
    "import matplotlib.pyplot as plt  # 导入绘图库matplotlib\n",
    "from time import time  # 导入时间模块中的time函数\n",
    "import datetime  # 导入日期时间模块\n",
    "\n",
    "#读取文件\n",
    "file_path = \"D:\\data\\heart+disease\\processed.cleveland.data\"\n",
    "data = pd.read_csv(file_path, delimiter=',')\n",
    "\n",
    "# 替换'MissingValue'为NaN\n",
    "data.replace('?', np.nan, inplace=True)\n",
    "# 转换数据类型\n",
    "data = data.astype(float)\n",
    "\n",
    "\n",
    "# 设置特征和标签\n",
    "X = data.iloc[:, :13]  # 前13列特征\n",
    "y = data.iloc[:, 13]   # 第14列标签\n",
    "\n",
    "\n",
    "#随机分割训练数据集和测试数据集\n",
    "X_train, X_test, y_train, y_test = TTS(X, y, test_size=0.4, random_state=42)\n",
    "\n",
    "# 转换为DMatrix，XGBoost的专用数据结构\n",
    "dtrain = xgb.DMatrix(X_train, label=y_train, missing=np.nan)\n",
    "dtest = xgb.DMatrix(X_test, label=y_test, missing=np.nan)\n",
    "\n",
    "\n",
    "param = {\n",
    "    'booster': 'gbtree',\n",
    "    'objective': 'multi:softmax',\n",
    "    'num_class': 5 ,\n",
    "    'eta': 0.32,\n",
    "    'max_depth': 3,\n",
    "    'min_child_weight': 1,\n",
    "    'subsample': 0.6,\n",
    "    'colsample_bytree': 0.3,\n",
    "    'gamma': 0,\n",
    "    'lambda': 2.2,\n",
    "    'alpha': 3.3,\n",
    "    'eval_metric': 'mlogloss',\n",
    "    'seed': 42\n",
    "}\n",
    "\n",
    "num_round = 85\n",
    "bst = xgb.train(param, dtrain, num_round)\n",
    "\n",
    "\n",
    "# 预测\n",
    "Tain_preds = bst.predict(dtrain)\n",
    "Test_preds = bst.predict(dtest)\n",
    "\n",
    "# 计算准确率\n",
    "train_accuracy = accuracy_score(y_train, Tain_preds)\n",
    "print(\"Train data accuracy: {:.2f}%\".format(train_accuracy * 100))\n",
    "test_accuracy = accuracy_score(y_test, Test_preds)\n",
    "print(\"Test data Accuracy: {:.2f}%\".format(test_accuracy * 100))"
   ]
  }
 ],
 "metadata": {
  "kernelspec": {
   "display_name": "Python 3",
   "language": "python",
   "name": "python3"
  },
  "language_info": {
   "codemirror_mode": {
    "name": "ipython",
    "version": 3
   },
   "file_extension": ".py",
   "mimetype": "text/x-python",
   "name": "python",
   "nbconvert_exporter": "python",
   "pygments_lexer": "ipython3",
   "version": "3.11.2"
  }
 },
 "nbformat": 4,
 "nbformat_minor": 2
}
