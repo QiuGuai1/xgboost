{
 "cells": [
  {
   "cell_type": "code",
   "execution_count": 21,
   "metadata": {},
   "outputs": [],
   "source": [
    "# 导入相关库\n",
    "from xgboost import XGBRegressor  # 导入XGBoost回归器\n",
    "from sklearn.ensemble import RandomForestRegressor  # 导入随机森林回归器\n",
    "from sklearn.linear_model import LinearRegression  # 导入线性回归模型\n",
    "from sklearn.model_selection import KFold, cross_val_score, train_test_split as TTS # 导入交叉验证、交叉验证评分及数据集划分\n",
    "from sklearn.metrics import mean_squared_error  # 导入均方误差计算的方法\n",
    "\n",
    "import pandas as pd  # 导入处理数据的pandas库\n",
    "import numpy as np  # 导入数值计算库Numpy\n",
    "import matplotlib.pyplot as plt  # 导入绘图库matplotlib\n",
    "from time import time  # 导入时间模块中的time函数\n",
    "import datetime  # 导入日期时间模块"
   ]
  },
  {
   "cell_type": "code",
   "execution_count": 37,
   "metadata": {},
   "outputs": [
    {
     "name": "stdout",
     "output_type": "stream",
     "text": [
      "     63.0  1.0  1.0.1  145.0  233.0  1.0.2  2.0  150.0  0.0  2.3  3.0 0.0.1  \\\n",
      "0    67.0  1.0    4.0  160.0  286.0    0.0  2.0  108.0  1.0  1.5  2.0   3.0   \n",
      "1    67.0  1.0    4.0  120.0  229.0    0.0  2.0  129.0  1.0  2.6  2.0   2.0   \n",
      "2    37.0  1.0    3.0  130.0  250.0    0.0  0.0  187.0  0.0  3.5  3.0   0.0   \n",
      "3    41.0  0.0    2.0  130.0  204.0    0.0  2.0  172.0  0.0  1.4  1.0   0.0   \n",
      "4    56.0  1.0    2.0  120.0  236.0    0.0  0.0  178.0  0.0  0.8  1.0   0.0   \n",
      "..    ...  ...    ...    ...    ...    ...  ...    ...  ...  ...  ...   ...   \n",
      "297  45.0  1.0    1.0  110.0  264.0    0.0  0.0  132.0  0.0  1.2  2.0   0.0   \n",
      "298  68.0  1.0    4.0  144.0  193.0    1.0  0.0  141.0  0.0  3.4  2.0   2.0   \n",
      "299  57.0  1.0    4.0  130.0  131.0    0.0  0.0  115.0  1.0  1.2  2.0   1.0   \n",
      "300  57.0  0.0    2.0  130.0  236.0    0.0  2.0  174.0  0.0  0.0  2.0   1.0   \n",
      "301  38.0  1.0    3.0  138.0  175.0    0.0  0.0  173.0  0.0  0.0  1.0     ?   \n",
      "\n",
      "     6.0  0  \n",
      "0    3.0  2  \n",
      "1    7.0  1  \n",
      "2    3.0  0  \n",
      "3    3.0  0  \n",
      "4    3.0  0  \n",
      "..   ... ..  \n",
      "297  7.0  1  \n",
      "298  7.0  2  \n",
      "299  7.0  3  \n",
      "300  3.0  1  \n",
      "301  3.0  0  \n",
      "\n",
      "[302 rows x 14 columns]\n"
     ]
    }
   ],
   "source": [
    "#读取文件\n",
    "file_path = \"D:\\data\\heart+disease\\processed.cleveland.data\"\n",
    "data = pd.read_csv(file_path, delimiter=',')\n",
    "print(data)\n"
   ]
  },
  {
   "cell_type": "code",
   "execution_count": 38,
   "metadata": {},
   "outputs": [],
   "source": [
    "# 替换'MissingValue'为NaN\n",
    "data.replace('?', np.nan, inplace=True)\n",
    "# 转换数据类型\n",
    "data = data.astype(float)"
   ]
  },
  {
   "cell_type": "code",
   "execution_count": 39,
   "metadata": {},
   "outputs": [],
   "source": [
    "# 设置特征和标签\n",
    "X = data.iloc[:, :13]  # 前13列特征\n",
    "y = data.iloc[:, 13]   # 第14列标签"
   ]
  },
  {
   "cell_type": "code",
   "execution_count": 40,
   "metadata": {},
   "outputs": [
    {
     "name": "stdout",
     "output_type": "stream",
     "text": [
      "特征:\n",
      "     63.0  1.0  1.0.1  145.0  233.0  1.0.2  2.0  150.0  0.0  2.3  3.0  0.0.1  \\\n",
      "0    67.0  1.0    4.0  160.0  286.0    0.0  2.0  108.0  1.0  1.5  2.0    3.0   \n",
      "1    67.0  1.0    4.0  120.0  229.0    0.0  2.0  129.0  1.0  2.6  2.0    2.0   \n",
      "2    37.0  1.0    3.0  130.0  250.0    0.0  0.0  187.0  0.0  3.5  3.0    0.0   \n",
      "3    41.0  0.0    2.0  130.0  204.0    0.0  2.0  172.0  0.0  1.4  1.0    0.0   \n",
      "4    56.0  1.0    2.0  120.0  236.0    0.0  0.0  178.0  0.0  0.8  1.0    0.0   \n",
      "..    ...  ...    ...    ...    ...    ...  ...    ...  ...  ...  ...    ...   \n",
      "297  45.0  1.0    1.0  110.0  264.0    0.0  0.0  132.0  0.0  1.2  2.0    0.0   \n",
      "298  68.0  1.0    4.0  144.0  193.0    1.0  0.0  141.0  0.0  3.4  2.0    2.0   \n",
      "299  57.0  1.0    4.0  130.0  131.0    0.0  0.0  115.0  1.0  1.2  2.0    1.0   \n",
      "300  57.0  0.0    2.0  130.0  236.0    0.0  2.0  174.0  0.0  0.0  2.0    1.0   \n",
      "301  38.0  1.0    3.0  138.0  175.0    0.0  0.0  173.0  0.0  0.0  1.0    NaN   \n",
      "\n",
      "     6.0  \n",
      "0    3.0  \n",
      "1    7.0  \n",
      "2    3.0  \n",
      "3    3.0  \n",
      "4    3.0  \n",
      "..   ...  \n",
      "297  7.0  \n",
      "298  7.0  \n",
      "299  7.0  \n",
      "300  3.0  \n",
      "301  3.0  \n",
      "\n",
      "[302 rows x 13 columns]\n"
     ]
    }
   ],
   "source": [
    "# 打印特征\n",
    "print(\"特征:\")\n",
    "print(X)"
   ]
  },
  {
   "cell_type": "code",
   "execution_count": 41,
   "metadata": {},
   "outputs": [
    {
     "name": "stdout",
     "output_type": "stream",
     "text": [
      "标签:\n",
      "0      2.0\n",
      "1      1.0\n",
      "2      0.0\n",
      "3      0.0\n",
      "4      0.0\n",
      "      ... \n",
      "297    1.0\n",
      "298    2.0\n",
      "299    3.0\n",
      "300    1.0\n",
      "301    0.0\n",
      "Name: 0, Length: 302, dtype: float64\n"
     ]
    }
   ],
   "source": [
    "# 打印标签\n",
    "print(\"标签:\")\n",
    "print(y)\n"
   ]
  },
  {
   "cell_type": "code",
   "execution_count": 119,
   "metadata": {},
   "outputs": [],
   "source": [
    "import xgboost as xgb\n",
    "\n",
    "#随机分割训练数据集和测试数据集\n",
    "X_train, X_test, y_train, y_test = TTS(X, y, test_size=0.4, random_state=42)\n",
    "\n",
    "# 转换为DMatrix，XGBoost的专用数据结构\n",
    "dtrain = xgb.DMatrix(X_train, label=y_train, missing=np.nan)\n",
    "dtest = xgb.DMatrix(X_test, label=y_test, missing=np.nan)"
   ]
  },
  {
   "cell_type": "code",
   "execution_count": 43,
   "metadata": {},
   "outputs": [
    {
     "name": "stdout",
     "output_type": "stream",
     "text": [
      "y_train: 286    0.0\n",
      "281    3.0\n",
      "197    0.0\n",
      "158    0.0\n",
      "164    0.0\n",
      "      ... \n",
      "188    2.0\n",
      "71     1.0\n",
      "106    1.0\n",
      "270    0.0\n",
      "102    0.0\n",
      "Name: 0, Length: 226, dtype: float64\n"
     ]
    }
   ],
   "source": [
    "print(\"y_train:\", y_train)"
   ]
  },
  {
   "cell_type": "code",
   "execution_count": 120,
   "metadata": {},
   "outputs": [
    {
     "name": "stdout",
     "output_type": "stream",
     "text": [
      "Accuracy: 59.50%\n"
     ]
    }
   ],
   "source": [
    "param = {\n",
    "    'booster': 'gbtree',\n",
    "    'objective': 'multi:softmax',\n",
    "    'num_class': 5 ,\n",
    "    'eta': 0.25,\n",
    "    'max_depth': 3,\n",
    "    'min_child_weight': 1,\n",
    "    'subsample': 0.3,\n",
    "    'colsample_bytree': 0.4,\n",
    "    'gamma': 0.3,\n",
    "    'lambda': 2,\n",
    "    'alpha': 2,\n",
    "    'eval_metric': 'logloss',\n",
    "    'seed': 42\n",
    "}\n",
    "\n",
    "num_round = 75\n",
    "bst = xgb.train(param, dtrain, num_round)\n",
    "\n",
    "from sklearn.metrics import accuracy_score\n",
    "# 预测\n",
    "preds = bst.predict(dtest)\n",
    "\n",
    "# 计算准确率\n",
    "accuracy = accuracy_score(y_test, preds)\n",
    "print(\"Accuracy: {:.2f}%\".format(accuracy * 100))"
   ]
  }
 ],
 "metadata": {
  "kernelspec": {
   "display_name": "Python 3",
   "language": "python",
   "name": "python3"
  },
  "language_info": {
   "codemirror_mode": {
    "name": "ipython",
    "version": 3
   },
   "file_extension": ".py",
   "mimetype": "text/x-python",
   "name": "python",
   "nbconvert_exporter": "python",
   "pygments_lexer": "ipython3",
   "version": "3.11.2"
  }
 },
 "nbformat": 4,
 "nbformat_minor": 2
}
